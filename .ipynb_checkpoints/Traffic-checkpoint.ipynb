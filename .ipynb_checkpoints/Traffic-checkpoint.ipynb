{
 "cells": [
  {
   "cell_type": "code",
   "execution_count": 1,
   "metadata": {
    "collapsed": false
   },
   "outputs": [],
   "source": [
    "import numpy as np\n",
    "import random\n",
    "import matplotlib.pyplot as plt\n",
    "%matplotlib inline\n",
    "\n",
    "\n",
    "class Road:\n",
    "\n",
    "    def __init__(self, size=101, number_of_cars=50):\n",
    "        self.size = size\n",
    "        self.road = self.create_road(size)\n",
    "        self.car_list = self.place_cars(number_of_cars)\n",
    "\n",
    "    def place_cars(self, number_of_cars):\n",
    "        car_list = []\n",
    "        for num in range(number_of_cars):\n",
    "            car = Car(num, num)\n",
    "            car_list.append((car, num))\n",
    "        return car_list\n",
    "\n",
    "    def create_road(self, size):\n",
    "        return np.arange(size)\n",
    "\n",
    "    def check_car_pos(self, check_car):\n",
    "        selected_car = [self.car_list[number] for number, item in enumerate(\n",
    "            self.car_list) if item[1] == check_car]\n",
    "        # print(selected_car[0][1])\n",
    "        return selected_car[0]\n",
    "\n",
    "\n",
    "class Car:\n",
    "\n",
    "    def __init__(self, position=0, car_num=0):\n",
    "        self.position = position\n",
    "        self.size = 5\n",
    "        self.accel = 2\n",
    "        self.car_num = car_num\n",
    "        self.max_speed = 960\n",
    "        self.track = []\n",
    "        self.speed = 0\n",
    "\n",
    "    \"\"\"def __str__(self):\n",
    "        return str(self.position)\"\"\"\n",
    "\n",
    "    def accelerate(self):\n",
    "        self.speed += .4\n",
    "\n",
    "    def stop(self):\n",
    "        self.speed = 0\n",
    "\n",
    "    def slow(self):\n",
    "        self.speed -= .4\n",
    "\n",
    "    def move(self):\n",
    "        self.position += self.speed\n",
    "\n",
    "    def car_in_front(self):\n",
    "        return self.car_num + 1\n",
    "\n",
    "    def track_progress(self):\n",
    "        self.track.append(self.position)\n",
    "\n",
    "road = Road()\n",
    "\"\"\"print(road.road)\n",
    "print(road.car_list)\n",
    "print(road.car_list[5])\n",
    "print(road.check_car_pos(0))\n",
    "first_car = road.check_car_pos(0)\n",
    "print(\"First Car\", first_car[0].position)\n",
    "second_car = road.check_car_pos(road.car_list[0][0].car_in_front())\n",
    "print(\"Second Car\", second_car[0].position)\n",
    "distance = second_car[0].position - first_car[0].position\n",
    "print(distance)\n",
    "\"\"\"\n",
    "\n",
    "\n",
    "def run_sim():\n",
    "    datamine = []\n",
    "    for number in range(10):\n",
    "        for car in road.car_list:\n",
    "            # print(\"Car\", car)\n",
    "            chance = random.randint(1, 10)\n",
    "            first_car = car[0].position\n",
    "            try:\n",
    "                second_car = road.check_car_pos(car[0].car_in_front())[0].position\n",
    "                distance = second_car - first_car\n",
    "                speed = car[0].speed * 5\n",
    "                if speed == distance:\n",
    "                    pass\n",
    "            except:\n",
    "                pass\n",
    "            if chance == 1:\n",
    "                car[0].slow()\n",
    "            elif speed != 4800:\n",
    "                car[0].accelerate()\n",
    "            car[0].move()\n",
    "            car[0].track_progress()\n",
    "    return [car[0].track * 5 for car in road.car_list]\n",
    "\n",
    "\n",
    "data = run_sim()\n"
   ]
  },
  {
   "cell_type": "code",
   "execution_count": 5,
   "metadata": {
    "collapsed": false
   },
   "outputs": [
    {
     "ename": "ValueError",
     "evalue": "x and y must be the same size",
     "output_type": "error",
     "traceback": [
      "\u001b[0;31m---------------------------------------------------------------------------\u001b[0m",
      "\u001b[0;31mValueError\u001b[0m                                Traceback (most recent call last)",
      "\u001b[0;32m<ipython-input-5-8308a3161e79>\u001b[0m in \u001b[0;36m<module>\u001b[0;34m()\u001b[0m\n\u001b[1;32m      3\u001b[0m \u001b[0my\u001b[0m \u001b[0;34m=\u001b[0m \u001b[0;34m[\u001b[0m\u001b[0mx\u001b[0m \u001b[0;32mfor\u001b[0m \u001b[0mx\u001b[0m \u001b[0;32min\u001b[0m \u001b[0mrange\u001b[0m\u001b[0;34m(\u001b[0m\u001b[0;36m100\u001b[0m\u001b[0;34m)\u001b[0m\u001b[0;34m]\u001b[0m\u001b[0;34m\u001b[0m\u001b[0m\n\u001b[1;32m      4\u001b[0m \u001b[0;34m\u001b[0m\u001b[0m\n\u001b[0;32m----> 5\u001b[0;31m \u001b[0mplt\u001b[0m\u001b[0;34m.\u001b[0m\u001b[0mscatter\u001b[0m\u001b[0;34m(\u001b[0m\u001b[0mx\u001b[0m\u001b[0;34m,\u001b[0m \u001b[0my\u001b[0m\u001b[0;34m)\u001b[0m\u001b[0;34m\u001b[0m\u001b[0m\n\u001b[0m\u001b[1;32m      6\u001b[0m \u001b[0mplt\u001b[0m\u001b[0;34m.\u001b[0m\u001b[0mshow\u001b[0m\u001b[0;34m(\u001b[0m\u001b[0;34m)\u001b[0m\u001b[0;34m\u001b[0m\u001b[0m\n",
      "\u001b[0;32m/Users/BekkBlando/asd/lib/python3.4/site-packages/matplotlib/pyplot.py\u001b[0m in \u001b[0;36mscatter\u001b[0;34m(x, y, s, c, marker, cmap, norm, vmin, vmax, alpha, linewidths, verts, hold, **kwargs)\u001b[0m\n\u001b[1;32m   3198\u001b[0m         ret = ax.scatter(x, y, s=s, c=c, marker=marker, cmap=cmap, norm=norm,\n\u001b[1;32m   3199\u001b[0m                          \u001b[0mvmin\u001b[0m\u001b[0;34m=\u001b[0m\u001b[0mvmin\u001b[0m\u001b[0;34m,\u001b[0m \u001b[0mvmax\u001b[0m\u001b[0;34m=\u001b[0m\u001b[0mvmax\u001b[0m\u001b[0;34m,\u001b[0m \u001b[0malpha\u001b[0m\u001b[0;34m=\u001b[0m\u001b[0malpha\u001b[0m\u001b[0;34m,\u001b[0m\u001b[0;34m\u001b[0m\u001b[0m\n\u001b[0;32m-> 3200\u001b[0;31m                          linewidths=linewidths, verts=verts, **kwargs)\n\u001b[0m\u001b[1;32m   3201\u001b[0m         \u001b[0mdraw_if_interactive\u001b[0m\u001b[0;34m(\u001b[0m\u001b[0;34m)\u001b[0m\u001b[0;34m\u001b[0m\u001b[0m\n\u001b[1;32m   3202\u001b[0m     \u001b[0;32mfinally\u001b[0m\u001b[0;34m:\u001b[0m\u001b[0;34m\u001b[0m\u001b[0m\n",
      "\u001b[0;32m/Users/BekkBlando/asd/lib/python3.4/site-packages/matplotlib/axes/_axes.py\u001b[0m in \u001b[0;36mscatter\u001b[0;34m(self, x, y, s, c, marker, cmap, norm, vmin, vmax, alpha, linewidths, verts, **kwargs)\u001b[0m\n\u001b[1;32m   3589\u001b[0m         \u001b[0my\u001b[0m \u001b[0;34m=\u001b[0m \u001b[0mnp\u001b[0m\u001b[0;34m.\u001b[0m\u001b[0mma\u001b[0m\u001b[0;34m.\u001b[0m\u001b[0mravel\u001b[0m\u001b[0;34m(\u001b[0m\u001b[0my\u001b[0m\u001b[0;34m)\u001b[0m\u001b[0;34m\u001b[0m\u001b[0m\n\u001b[1;32m   3590\u001b[0m         \u001b[0;32mif\u001b[0m \u001b[0mx\u001b[0m\u001b[0;34m.\u001b[0m\u001b[0msize\u001b[0m \u001b[0;34m!=\u001b[0m \u001b[0my\u001b[0m\u001b[0;34m.\u001b[0m\u001b[0msize\u001b[0m\u001b[0;34m:\u001b[0m\u001b[0;34m\u001b[0m\u001b[0m\n\u001b[0;32m-> 3591\u001b[0;31m             \u001b[0;32mraise\u001b[0m \u001b[0mValueError\u001b[0m\u001b[0;34m(\u001b[0m\u001b[0;34m\"x and y must be the same size\"\u001b[0m\u001b[0;34m)\u001b[0m\u001b[0;34m\u001b[0m\u001b[0m\n\u001b[0m\u001b[1;32m   3592\u001b[0m \u001b[0;34m\u001b[0m\u001b[0m\n\u001b[1;32m   3593\u001b[0m         \u001b[0ms\u001b[0m \u001b[0;34m=\u001b[0m \u001b[0mnp\u001b[0m\u001b[0;34m.\u001b[0m\u001b[0mma\u001b[0m\u001b[0;34m.\u001b[0m\u001b[0mravel\u001b[0m\u001b[0;34m(\u001b[0m\u001b[0ms\u001b[0m\u001b[0;34m)\u001b[0m  \u001b[0;31m# This doesn't have to match x, y in size.\u001b[0m\u001b[0;34m\u001b[0m\u001b[0m\n",
      "\u001b[0;31mValueError\u001b[0m: x and y must be the same size"
     ]
    },
    {
     "data": {
      "image/png": "[encoded data removed]",
      "text/plain": [
       "<matplotlib.figure.Figure at 0x110cfe400>"
      ]
     },
     "metadata": {},
     "output_type": "display_data"
    }
   ],
   "source": [
    "x = [plot for plot in data]\n",
    "y = [x for x in range(100)]\n",
    "\n",
    "plt.scatter(x, y)\n",
    "plt.show()"
   ]
  },
  {
   "cell_type": "code",
   "execution_count": null,
   "metadata": {
    "collapsed": true
   },
   "outputs": [],
   "source": []
  }
 ],
 "metadata": {
  "kernelspec": {
   "display_name": "Python 3",
   "language": "python",
   "name": "python3"
  },
  "language_info": {
   "codemirror_mode": {
    "name": "ipython",
    "version": 3
   },
   "file_extension": ".py",
   "mimetype": "text/x-python",
   "name": "python",
   "nbconvert_exporter": "python",
   "pygments_lexer": "ipython3",
   "version": "3.4.3"
  }
 },
 "nbformat": 4,
 "nbformat_minor": 0
}
